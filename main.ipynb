{
 "cells": [
  {
   "cell_type": "code",
   "execution_count": 35,
   "metadata": {},
   "outputs": [],
   "source": [
    "import pandas as pd\n",
    "import seaborn as sns\n",
    "import matplotlib.pyplot as plt\n",
    "import numpy as np\n",
    "\n",
    "import tensorflow as tf\n",
    "from tensorflow.keras.layers import Input, Dense\n",
    "from tensorflow.keras.models import Model\n",
    "\n",
    "from sklearn.ensemble import RandomForestClassifier\n",
    "from sklearn.ensemble import AdaBoostClassifier\n",
    "from sklearn.svm import SVC\n",
    "import xgboost as xgb\n",
    "from sklearn.decomposition import PCA\n",
    "from sklearn.ensemble import VotingClassifier\n",
    "from sklearn.utils import resample\n",
    "\n",
    "from sklearn.model_selection import train_test_split\n",
    "from sklearn.model_selection import GridSearchCV\n",
    "from sklearn.metrics import accuracy_score\n",
    "from sklearn.model_selection import cross_val_score\n",
    "from sklearn.metrics import classification_report\n",
    "from sklearn.preprocessing import LabelEncoder\n",
    "from sklearn.preprocessing import StandardScaler\n",
    "\n",
    "pd.set_option('display.max_columns', None)"
   ]
  },
  {
   "cell_type": "code",
   "execution_count": 10,
   "metadata": {},
   "outputs": [],
   "source": [
    "df = pd.read_csv('./dataset/brca_metabric_clinical_data.tsv', sep='\\t')\n",
    "df.to_csv('./dataset/brca.csv')"
   ]
  },
  {
   "cell_type": "code",
   "execution_count": 11,
   "metadata": {},
   "outputs": [],
   "source": [
    "df.drop(columns=['Study ID', 'Patient ID', 'Sample ID'], inplace=True)"
   ]
  },
  {
   "cell_type": "code",
   "execution_count": 12,
   "metadata": {},
   "outputs": [
    {
     "data": {
      "text/plain": [
       "Tumor Stage\n",
       "2.0    979\n",
       "1.0    630\n",
       "3.0    144\n",
       "0.0     24\n",
       "4.0     11\n",
       "Name: count, dtype: int64"
      ]
     },
     "execution_count": 12,
     "metadata": {},
     "output_type": "execute_result"
    }
   ],
   "source": [
    "df.iloc[:, -2].value_counts()"
   ]
  },
  {
   "cell_type": "code",
   "execution_count": 13,
   "metadata": {},
   "outputs": [
    {
     "data": {
      "text/plain": [
       "Patient's Vital Status\n",
       "Living                  837\n",
       "Died of Disease         646\n",
       "Died of Other Causes    497\n",
       "Name: count, dtype: int64"
      ]
     },
     "execution_count": 13,
     "metadata": {},
     "output_type": "execute_result"
    }
   ],
   "source": [
    "df.iloc[:, -1].value_counts()"
   ]
  },
  {
   "cell_type": "code",
   "execution_count": 14,
   "metadata": {},
   "outputs": [
    {
     "name": "stdout",
     "output_type": "stream",
     "text": [
      "<class 'pandas.core.frame.DataFrame'>\n",
      "RangeIndex: 2509 entries, 0 to 2508\n",
      "Data columns (total 36 columns):\n",
      " #   Column                          Non-Null Count  Dtype  \n",
      "---  ------                          --------------  -----  \n",
      " 0   Age at Diagnosis                2498 non-null   float64\n",
      " 1   Type of Breast Surgery          1955 non-null   object \n",
      " 2   Cancer Type                     2509 non-null   object \n",
      " 3   Cancer Type Detailed            2509 non-null   object \n",
      " 4   Cellularity                     1917 non-null   object \n",
      " 5   Chemotherapy                    1980 non-null   object \n",
      " 6   Pam50 + Claudin-low subtype     1980 non-null   object \n",
      " 7   Cohort                          2498 non-null   float64\n",
      " 8   ER status measured by IHC       2426 non-null   object \n",
      " 9   ER Status                       2469 non-null   object \n",
      " 10  Neoplasm Histologic Grade       2388 non-null   float64\n",
      " 11  HER2 status measured by SNP6    1980 non-null   object \n",
      " 12  HER2 Status                     1980 non-null   object \n",
      " 13  Tumor Other Histologic Subtype  2374 non-null   object \n",
      " 14  Hormone Therapy                 1980 non-null   object \n",
      " 15  Inferred Menopausal State       1980 non-null   object \n",
      " 16  Integrative Cluster             1980 non-null   object \n",
      " 17  Primary Tumor Laterality        1870 non-null   object \n",
      " 18  Lymph nodes examined positive   2243 non-null   float64\n",
      " 19  Mutation Count                  2358 non-null   float64\n",
      " 20  Nottingham prognostic index     2287 non-null   float64\n",
      " 21  Oncotree Code                   2509 non-null   object \n",
      " 22  Overall Survival (Months)       1981 non-null   float64\n",
      " 23  Overall Survival Status         1981 non-null   object \n",
      " 24  PR Status                       1980 non-null   object \n",
      " 25  Radio Therapy                   1980 non-null   object \n",
      " 26  Relapse Free Status (Months)    2388 non-null   float64\n",
      " 27  Relapse Free Status             2488 non-null   object \n",
      " 28  Number of Samples Per Patient   2509 non-null   int64  \n",
      " 29  Sample Type                     2509 non-null   object \n",
      " 30  Sex                             2509 non-null   object \n",
      " 31  3-Gene classifier subtype       1764 non-null   object \n",
      " 32  TMB (nonsynonymous)             2509 non-null   float64\n",
      " 33  Tumor Size                      2360 non-null   float64\n",
      " 34  Tumor Stage                     1788 non-null   float64\n",
      " 35  Patient's Vital Status          1980 non-null   object \n",
      "dtypes: float64(11), int64(1), object(24)\n",
      "memory usage: 705.8+ KB\n"
     ]
    }
   ],
   "source": [
    "df.info()"
   ]
  },
  {
   "cell_type": "code",
   "execution_count": 15,
   "metadata": {},
   "outputs": [
    {
     "name": "stdout",
     "output_type": "stream",
     "text": [
      "Age at Diagnosis           11\n",
      "Type of Breast Surgery    554\n",
      "Cancer Type                 0\n",
      "Cancer Type Detailed        0\n",
      "Cellularity               592\n",
      "dtype: int64\n"
     ]
    }
   ],
   "source": [
    "n_nan_columns = df.isnull().sum()\n",
    "print(n_nan_columns.head())"
   ]
  },
  {
   "cell_type": "code",
   "execution_count": 16,
   "metadata": {},
   "outputs": [],
   "source": [
    "df.dropna(inplace=True)"
   ]
  },
  {
   "cell_type": "code",
   "execution_count": 17,
   "metadata": {},
   "outputs": [
    {
     "data": {
      "text/plain": [
       "Tumor Stage\n",
       "2.0    624\n",
       "1.0    369\n",
       "3.0     92\n",
       "Name: count, dtype: int64"
      ]
     },
     "execution_count": 17,
     "metadata": {},
     "output_type": "execute_result"
    }
   ],
   "source": [
    "df = df[df.iloc[:, -2] != 4.0]\n",
    "df = df[df.iloc[:, -2] != 0.0]\n",
    "df.iloc[:, -2].value_counts()"
   ]
  },
  {
   "cell_type": "code",
   "execution_count": 18,
   "metadata": {},
   "outputs": [],
   "source": [
    "X = df.iloc[:, :-2]\n",
    "y = df.iloc[:, -2]\n",
    "\n",
    "X = pd.get_dummies(X)\n",
    "\n",
    "scaler = StandardScaler()\n",
    "X = scaler.fit_transform(X)"
   ]
  },
  {
   "cell_type": "code",
   "execution_count": 19,
   "metadata": {},
   "outputs": [
    {
     "data": {
      "text/plain": [
       "0.9078341013824884"
      ]
     },
     "execution_count": 19,
     "metadata": {},
     "output_type": "execute_result"
    }
   ],
   "source": [
    "X_train, X_test, y_train, y_test = train_test_split(X, y, test_size=0.2, random_state=42)\n",
    "\n",
    "rf_model = RandomForestClassifier()\n",
    "rf_model.fit(X_train, y_train)\n",
    "\n",
    "y_pred = rf_model.predict(X_test)\n",
    "accuracy = accuracy_score(y_test, y_pred)\n",
    "\n",
    "accuracy"
   ]
  },
  {
   "cell_type": "code",
   "execution_count": 20,
   "metadata": {},
   "outputs": [
    {
     "name": "stdout",
     "output_type": "stream",
     "text": [
      "Best Model: RandomForestClassifier(n_estimators=200)\n",
      "Best Parameters: {'max_depth': None, 'min_samples_leaf': 1, 'min_samples_split': 2, 'n_estimators': 200}\n",
      "Accuracy: 0.9124423963133641\n"
     ]
    }
   ],
   "source": [
    "param_grid = {\n",
    "    'n_estimators': [100, 200, 300],\n",
    "    'max_depth': [None, 5, 10],\n",
    "    'min_samples_split': [2, 5, 10],\n",
    "    'min_samples_leaf': [1, 2, 4]\n",
    "}\n",
    "\n",
    "rf_model = RandomForestClassifier()\n",
    "grid_search = GridSearchCV(estimator=rf_model, param_grid=param_grid, cv=5)\n",
    "\n",
    "grid_search.fit(X_train, y_train)\n",
    "best_model = grid_search.best_estimator_\n",
    "best_params = grid_search.best_params_\n",
    "\n",
    "\n",
    "y_pred = best_model.predict(X_test)\n",
    "accuracy = accuracy_score(y_test, y_pred)\n",
    "\n",
    "print(\"Best Parameters:\", best_params)\n",
    "print(\"Accuracy:\", accuracy)\n"
   ]
  },
  {
   "cell_type": "code",
   "execution_count": 21,
   "metadata": {},
   "outputs": [
    {
     "data": {
      "text/plain": [
       "0.8110599078341014"
      ]
     },
     "execution_count": 21,
     "metadata": {},
     "output_type": "execute_result"
    }
   ],
   "source": [
    "svm_model = SVC(kernel='rbf')\n",
    "svm_model.fit(X_train, y_train)\n",
    "\n",
    "y_pred_svm = svm_model.predict(X_test)\n",
    "accuracy_svm = accuracy_score(y_test, y_pred_svm)\n",
    "\n",
    "accuracy_svm"
   ]
  },
  {
   "cell_type": "code",
   "execution_count": 22,
   "metadata": {},
   "outputs": [
    {
     "name": "stdout",
     "output_type": "stream",
     "text": [
      "Best Parameters: {'C': 0.1, 'gamma': 0.1, 'kernel': 'linear'}\n",
      "Accuracy: 0.8571428571428571\n"
     ]
    }
   ],
   "source": [
    "param_grid = {\n",
    "    'kernel': ['linear', 'poly', 'rbf', 'sigmoid'],\n",
    "    'C': [0.1, 1, 10],\n",
    "    'gamma': [0.1, 1, 10]\n",
    "}\n",
    "\n",
    "svm_model = SVC()\n",
    "grid_search = GridSearchCV(estimator=svm_model, param_grid=param_grid, cv=5)\n",
    "\n",
    "grid_search.fit(X_train, y_train)\n",
    "best_model = grid_search.best_estimator_\n",
    "best_params = grid_search.best_params_\n",
    "\n",
    "y_pred = best_model.predict(X_test)\n",
    "accuracy = accuracy_score(y_test, y_pred)\n",
    "\n",
    "print(\"Best Parameters:\", best_params)\n",
    "print(\"Accuracy:\", accuracy)"
   ]
  },
  {
   "cell_type": "code",
   "execution_count": 24,
   "metadata": {},
   "outputs": [
    {
     "name": "stdout",
     "output_type": "stream",
     "text": [
      "linear: 0.8571428571428571\n",
      "poly: 0.7235023041474654\n",
      "rbf: 0.6175115207373272\n",
      "sigmoid: 0.7142857142857143\n"
     ]
    }
   ],
   "source": [
    "kernels = ['linear', 'poly', 'rbf', 'sigmoid']\n",
    "\n",
    "for kernel in kernels:\n",
    "    svm_model = SVC(kernel=kernel, C=best_params['C'], gamma=best_params['gamma'])\n",
    "    svm_model.fit(X_train, y_train)\n",
    "\n",
    "    y_pred = svm_model.predict(X_test)\n",
    "    accuracy = accuracy_score(y_test, y_pred)\n",
    "    print(f\"{kernel}:\", accuracy)"
   ]
  },
  {
   "cell_type": "code",
   "execution_count": 25,
   "metadata": {},
   "outputs": [
    {
     "data": {
      "text/plain": [
       "0.9354838709677419"
      ]
     },
     "execution_count": 25,
     "metadata": {},
     "output_type": "execute_result"
    }
   ],
   "source": [
    "le = LabelEncoder()\n",
    "y_train_transformed = le.fit_transform(y_train)\n",
    "y_test_transformed = le.transform(y_test)\n",
    "\n",
    "xgb_model = xgb.XGBClassifier()\n",
    "xgb_model.fit(X_train, y_train_transformed)\n",
    "\n",
    "y_pred_xgb = xgb_model.predict(X_test)\n",
    "accuracy_xgb = accuracy_score(y_test_transformed, y_pred_xgb)\n",
    "\n",
    "accuracy_xgb"
   ]
  },
  {
   "cell_type": "code",
   "execution_count": 26,
   "metadata": {},
   "outputs": [
    {
     "name": "stdout",
     "output_type": "stream",
     "text": [
      "Best Parameters: {'learning_rate': 0.01, 'max_depth': 5, 'n_estimators': 100}\n",
      "Accuracy: 0.9354838709677419\n"
     ]
    }
   ],
   "source": [
    "param_grid = {\n",
    "    'learning_rate': [0.1, 0.01, 0.001],\n",
    "    'max_depth': [None, 3, 5, 7],\n",
    "    'n_estimators': [10, 100, 200, 300]\n",
    "}\n",
    "\n",
    "le = LabelEncoder()\n",
    "y_train_transformed = le.fit_transform(y_train)\n",
    "y_test_transformed = le.transform(y_test)\n",
    "\n",
    "xgb_model = xgb.XGBClassifier()\n",
    "grid_search = GridSearchCV(estimator=xgb_model, param_grid=param_grid, cv=5)\n",
    "\n",
    "\n",
    "grid_search.fit(X_train, y_train_transformed)\n",
    "best_model = grid_search.best_estimator_\n",
    "best_params = grid_search.best_params_\n",
    "\n",
    "\n",
    "y_pred = best_model.predict(X_test)\n",
    "accuracy = accuracy_score(y_test_transformed, y_pred)\n",
    "\n",
    "print(\"Best Parameters:\", best_params)\n",
    "print(\"Accuracy:\", accuracy)"
   ]
  },
  {
   "cell_type": "code",
   "execution_count": 27,
   "metadata": {},
   "outputs": [
    {
     "data": {
      "text/plain": [
       "0.7419354838709677"
      ]
     },
     "execution_count": 27,
     "metadata": {},
     "output_type": "execute_result"
    }
   ],
   "source": [
    "adaboost_model = AdaBoostClassifier()\n",
    "adaboost_model.fit(X_train, y_train_transformed)\n",
    "\n",
    "y_pred_adaboost = adaboost_model.predict(X_test)\n",
    "accuracy_adaboost = accuracy_score(y_test_transformed, y_pred_adaboost)\n",
    "\n",
    "accuracy_adaboost"
   ]
  },
  {
   "cell_type": "code",
   "execution_count": 28,
   "metadata": {},
   "outputs": [
    {
     "name": "stdout",
     "output_type": "stream",
     "text": [
      "Best Parameters: {'learning_rate': 0.1, 'n_estimators': 50}\n",
      "Accuracy: 0.8847926267281107\n"
     ]
    }
   ],
   "source": [
    "param_grid = {\n",
    "    'n_estimators': [50, 100, 200],\n",
    "    'learning_rate': [0.1, 0.5, 1.0]\n",
    "}\n",
    "\n",
    "adaboost_model = AdaBoostClassifier()\n",
    "grid_search = GridSearchCV(estimator=adaboost_model, param_grid=param_grid, cv=5)\n",
    "\n",
    "grid_search.fit(X_train, y_train_transformed)\n",
    "best_model = grid_search.best_estimator_\n",
    "best_params = grid_search.best_params_\n",
    "\n",
    "\n",
    "y_pred = best_model.predict(X_test)\n",
    "accuracy = accuracy_score(y_test_transformed, y_pred)\n",
    "\n",
    "\n",
    "print(\"Best Parameters:\", best_params)\n",
    "print(\"Accuracy:\", accuracy)"
   ]
  },
  {
   "cell_type": "code",
   "execution_count": 30,
   "metadata": {},
   "outputs": [
    {
     "data": {
      "text/plain": [
       "0.9308755760368663"
      ]
     },
     "execution_count": 30,
     "metadata": {},
     "output_type": "execute_result"
    }
   ],
   "source": [
    "xgb_model = xgb.XGBClassifier()\n",
    "rf_model = RandomForestClassifier()\n",
    "svm_model = SVC(kernel='linear', probability=True)\n",
    "\n",
    "\n",
    "ensemble_model = VotingClassifier(estimators=[('xgb', xgb_model), ('rf', rf_model), ('svm', svm_model)], voting='soft')\n",
    "ensemble_model.fit(X_train, y_train_transformed)\n",
    "\n",
    "\n",
    "y_pred_ensemble = ensemble_model.predict(X_test)\n",
    "accuracy_ensemble = accuracy_score(y_test_transformed, y_pred_ensemble)\n",
    "\n",
    "accuracy_ensemble"
   ]
  },
  {
   "cell_type": "code",
   "execution_count": 32,
   "metadata": {},
   "outputs": [
    {
     "name": "stdout",
     "output_type": "stream",
     "text": [
      "Accuracy (Hard Voting) for each fold: [0.88990826 0.89908257 0.85321101 0.89908257 0.77981651 0.89814815\n",
      " 0.94444444 0.93518519 0.96296296 0.91666667]\n",
      "Accuracy (Soft Voting) for each fold: [0.88990826 0.89908257 0.86238532 0.89908257 0.87155963 0.89814815\n",
      " 0.94444444 0.93518519 0.9537037  0.92592593]\n",
      "Max Accuracy (Hard Voting): 0.9629629629629629\n",
      "Max Accuracy (Soft Voting): 0.9537037037037037\n"
     ]
    }
   ],
   "source": [
    "xgb_model = xgb.XGBClassifier()\n",
    "rf_model = RandomForestClassifier()\n",
    "svm_model = SVC(kernel='linear', probability=True)\n",
    "\n",
    "\n",
    "ensemble_hard = VotingClassifier(estimators=[('xgb', xgb_model), ('rf', rf_model), ('svm', svm_model)], voting='hard')\n",
    "ensemble_soft = VotingClassifier(estimators=[('xgb', xgb_model), ('rf', rf_model), ('svm', svm_model)], voting='soft')\n",
    "\n",
    "cv_scores_hard = cross_val_score(ensemble_hard, X, y, cv=10)\n",
    "cv_scores_soft = cross_val_score(ensemble_soft, X, y, cv=10)\n",
    "\n",
    "print(\"Accuracy (Hard Voting) for each fold:\", cv_scores_hard)\n",
    "print(\"Accuracy (Soft Voting) for each fold:\", cv_scores_soft)\n",
    "\n",
    "print(\"Max Accuracy (Hard Voting):\", cv_scores_hard.max())\n",
    "print(\"Max Accuracy (Soft Voting):\", cv_scores_soft.max())"
   ]
  },
  {
   "cell_type": "code",
   "execution_count": 34,
   "metadata": {},
   "outputs": [
    {
     "name": "stdout",
     "output_type": "stream",
     "text": [
      "Accuracy (Hard Voting) for each fold: [0.93969849 0.90954774 0.91959799 0.9798995  0.92462312 0.9798995\n",
      " 0.98484848 0.98989899 0.97474747 0.97474747]\n",
      "Max Accuracy (Hard Voting): 0.98989898989899\n"
     ]
    }
   ],
   "source": [
    "df_upsampled = df[df.iloc[:, -2] == 3.0]\n",
    "df_upsampled = resample(df_upsampled, replace=True, n_samples=df[df.iloc[:, -2] != 3.0].shape[0], random_state=42)\n",
    "\n",
    "\n",
    "df_combined = pd.concat([df[df.iloc[:, -2] != 3.0], df_upsampled])\n",
    "X_upsampled = df_combined.iloc[:, :-2]\n",
    "y_upsampled = df_combined.iloc[:, -2]\n",
    "\n",
    "X_upsampled = pd.get_dummies(X_upsampled)\n",
    "X_upsampled = scaler.transform(X_upsampled)\n",
    "\n",
    "X_train_upsampled, X_test_upsampled, y_train_upsampled, y_test_upsampled = train_test_split(X_upsampled, y_upsampled, test_size=0.2, random_state=42)\n",
    "\n",
    "ensemble_hard_upsampled = VotingClassifier(estimators=[('xgb', xgb_model), ('rf', rf_model), ('svm', svm_model)], voting='hard')\n",
    "cv_scores_hard = cross_val_score(ensemble_hard, X_upsampled, y_upsampled, cv=10)\n",
    "\n",
    "print(\"Accuracy (Hard Voting) for each fold:\", cv_scores_hard)\n",
    "print(\"Max Accuracy (Hard Voting):\", cv_scores_hard.max())"
   ]
  },
  {
   "cell_type": "code",
   "execution_count": null,
   "metadata": {},
   "outputs": [],
   "source": []
  }
 ],
 "metadata": {
  "kernelspec": {
   "display_name": "base",
   "language": "python",
   "name": "python3"
  },
  "language_info": {
   "codemirror_mode": {
    "name": "ipython",
    "version": 3
   },
   "file_extension": ".py",
   "mimetype": "text/x-python",
   "name": "python",
   "nbconvert_exporter": "python",
   "pygments_lexer": "ipython3",
   "version": "3.11.5"
  }
 },
 "nbformat": 4,
 "nbformat_minor": 2
}
